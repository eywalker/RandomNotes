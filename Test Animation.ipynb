{
 "cells": [
  {
   "cell_type": "code",
   "execution_count": null,
   "metadata": {
    "collapsed": false
   },
   "outputs": [],
   "source": [
    "import numpy as np\n",
    "import matplotlib\n",
    "#matplotlib.use('TkAgg')\n",
    "import matplotlib.pyplot as plt\n",
    "import matplotlib.animation as animation\n",
    "from time import time\n",
    "\n",
    "def data_gen():\n",
    "    t0 = time()\n",
    "    t_prev=t0\n",
    "    prev = 0\n",
    "    slope = 0\n",
    "    acc = 0\n",
    "    while t_prev - t0 < 60:\n",
    "        t_now = time()\n",
    "        delta_t = t_now - t_prev\n",
    "        #acc = np.random.randn() * 10 + acc\n",
    "        acc = -3 + np.random.randn()*20\n",
    "        slope = np.clip(slope + acc * delta_t, -10, 10)\n",
    "        prev = np.clip(prev + slope * delta_t, -10, 10)\n",
    "        if np.abs(prev) >= 9.98:\n",
    "            slope=-slope + np.random.randn() * 5\n",
    "        yield t_now - t0, prev\n",
    "        t_prev = t_now\n",
    "\n",
    "fig, ax = plt.subplots()\n",
    "line, = ax.plot([], [], '-', lw=1)\n",
    "ball, = ax.plot([], [], 'ro')\n",
    "ax.set_ylim(-10, 10)\n",
    "ax.set_xlim(0, 5)\n",
    "ax.grid()\n",
    "xdata, ydata = [], []\n",
    "def run(data):\n",
    "    # update the data\n",
    "    t,y = data\n",
    "    xdata.append(t)\n",
    "    ydata.append(y)\n",
    "    xmin, xmax = ax.get_xlim()\n",
    "\n",
    "    delta = 3\n",
    "    if t >= xmax:\n",
    "        ax.set_xlim(xmin, 1.2 * xmax)\n",
    "        ax.figure.canvas.draw()\n",
    "    line.set_data(xdata, ydata)\n",
    "    ball.set_data([t], [y])\n",
    "\n",
    "    return line, ball\n",
    "\n",
    "ani = animation.FuncAnimation(fig, run, data_gen, interval=10,\n",
    "    repeat=False)\n",
    "plt.show()"
   ]
  },
  {
   "cell_type": "code",
   "execution_count": 4,
   "metadata": {
    "collapsed": false
   },
   "outputs": [],
   "source": [
    "animation.FuncAnimation?\n",
    "        "
   ]
  },
  {
   "cell_type": "code",
   "execution_count": null,
   "metadata": {
    "collapsed": true
   },
   "outputs": [],
   "source": []
  }
 ],
 "metadata": {
  "kernelspec": {
   "display_name": "Python 3",
   "language": "python",
   "name": "python3"
  },
  "language_info": {
   "codemirror_mode": {
    "name": "ipython",
    "version": 3
   },
   "file_extension": ".py",
   "mimetype": "text/x-python",
   "name": "python",
   "nbconvert_exporter": "python",
   "pygments_lexer": "ipython3",
   "version": "3.4.3"
  }
 },
 "nbformat": 4,
 "nbformat_minor": 0
}
